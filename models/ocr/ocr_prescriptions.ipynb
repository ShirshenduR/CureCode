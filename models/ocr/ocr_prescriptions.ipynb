{
 "cells": [
  {
   "cell_type": "code",
   "execution_count": null,
   "metadata": {},
   "outputs": [],
   "source": [
    "import os\n",
    "import io\n",
    "from google.cloud import vision\n",
    "from symspellpy import SymSpell, Verbosity\n",
    "from transformers import pipeline\n",
    "os.environ[\"GOOGLE_APPLICATION_CREDENTIALS\"] = r\"E:/Coding Projects/HackTheFuture\""
   ]
  },
  {
   "cell_type": "code",
   "execution_count": 9,
   "metadata": {},
   "outputs": [
    {
     "name": "stdout",
     "output_type": "stream",
     "text": [
      "Extracted Text: SH\n",
      "A.\n",
      "Com\n",
      "DR. PARMAR'S\n",
      "ADARSH CLINIC\n",
      "for\n",
      "Ankar Pandya\n",
      "Dr. Pratik Parmar\n",
      "BDS (Dental Surgeon)\n",
      "+91 99985 42655\n",
      "Dr. Parul Parmar\n",
      "MBBS, PGDCC, CIH\n",
      "(D. Cardiologist)\n",
      "5 8 22\n",
      "Tab. Augmentin. Due\n",
      "625\n",
      "10\n",
      "8 AU Tab. Ketorol - DY\n",
      "18\n",
      "天\n",
      "Add: 101, Bhanudarshan, Nr. Gunjan Cinema, Koparli Road, Vapi - 396 195.\n",
      "Contact: (C) 0260-2426000 (M.) 92280 09889\n",
      "adarsh_dentalcare@hotmail.com\n",
      "www.drpratikparmar.com\n",
      "6\n",
      "6.\n"
     ]
    }
   ],
   "source": [
    "# Properly initialize the Vision API Client\n",
    "client = vision.ImageAnnotatorClient()\n",
    "\n",
    "def extract_text_from_image(image_path):\n",
    "    \"\"\"Extracts text from an image using Google Vision API.\"\"\"\n",
    "    with io.open(image_path, 'rb') as image_file:\n",
    "        content = image_file.read()\n",
    "    image = vision.Image(content=content)\n",
    "\n",
    "    # Ensure the client is correctly initialized\n",
    "    response = client.text_detection(image=image)\n",
    "    texts = response.text_annotations\n",
    "    if not texts:\n",
    "        return \"No text detected.\"\n",
    "    \n",
    "    return texts[0].description  # Extracted text\n",
    "\n",
    "# Example Usage\n",
    "# We need to add the feature, where custom data is given input and text is taken out.\n",
    "image_path = \"C:/Users/Dhairya/Documents/GitHub/CureCode/dataset/sample4.jpeg\"\n",
    "raw_text = extract_text_from_image(image_path)\n",
    "\n",
    "print(\"Extracted Text:\", raw_text)"
   ]
  }
 ],
 "metadata": {
  "kernelspec": {
   "display_name": "Python (new_env)",
   "language": "python",
   "name": "new_env"
  },
  "language_info": {
   "codemirror_mode": {
    "name": "ipython",
    "version": 3
   },
   "file_extension": ".py",
   "mimetype": "text/x-python",
   "name": "python",
   "nbconvert_exporter": "python",
   "pygments_lexer": "ipython3",
   "version": "3.9.21"
  }
 },
 "nbformat": 4,
 "nbformat_minor": 2
}
